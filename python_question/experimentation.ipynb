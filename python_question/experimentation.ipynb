{
 "cells": [
  {
   "cell_type": "code",
   "execution_count": 48,
   "metadata": {},
   "outputs": [
    {
     "name": "stdout",
     "output_type": "stream",
     "text": [
      "\"abc\": ['def', 'ghi', 'jkl', 'mno', 'pqr', 'stu', 'vwx', 'yz']\n",
      "\"def\": ['ghi', 'jkl', 'mno', 'pqr', 'stu', 'vwx', 'yz']\n",
      "\"ghi\": ['jkl', 'mno', 'pqr', 'stu', 'vwx', 'yz']\n",
      "\"jkl\": ['mno', 'pqr', 'stu', 'vwx', 'yz']\n",
      "\"mno\": ['pqr', 'stu', 'vwx', 'yz']\n",
      "\"pqr\": ['stu', 'vwx', 'yz']\n",
      "\"stu\": ['vwx', 'yz']\n",
      "\"vwx\": ['yz']\n",
      "\"yz\": ['you are finally here !!!']\n"
     ]
    }
   ],
   "source": [
    "input_dict = {\"abc\":{\"def\":{\"ghi\":{\"jkl\":{\"mno\":{\"pqr\":{\"stu\":{\"vwx\":{\"yz\":\"you are finally here !!!\"}}}}}}}}}\n",
    "nested_dict_printer = Question1_py(input_dict)\n",
    "nested_dict_printer.print_dict()"
   ]
  },
  {
   "cell_type": "code",
   "execution_count": null,
   "metadata": {},
   "outputs": [],
   "source": []
  }
 ],
 "metadata": {
  "kernelspec": {
   "display_name": "Python 3",
   "language": "python",
   "name": "python3"
  },
  "language_info": {
   "codemirror_mode": {
    "name": "ipython",
    "version": 3
   },
   "file_extension": ".py",
   "mimetype": "text/x-python",
   "name": "python",
   "nbconvert_exporter": "python",
   "pygments_lexer": "ipython3",
   "version": "3.10.13"
  }
 },
 "nbformat": 4,
 "nbformat_minor": 2
}
